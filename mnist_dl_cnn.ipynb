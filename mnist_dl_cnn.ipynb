{
 "cells": [
  {
   "cell_type": "code",
   "execution_count": 1,
   "metadata": {},
   "outputs": [],
   "source": [
    "import tensorflow as tf"
   ]
  },
  {
   "cell_type": "code",
   "execution_count": 2,
   "metadata": {},
   "outputs": [],
   "source": [
    "mnist = tf.keras.datasets.mnist\n",
    "\n",
    "(x_train, y_train),(x_test, y_test) = mnist.load_data()\n",
    "#x_train, x_test = x_train / 255.0, x_test / 255.0\n",
    "x_train = tf.keras.utils.normalize(x_train, axis=1)\n",
    "x_test = tf.keras.utils.normalize(x_test, axis=1)"
   ]
  },
  {
   "cell_type": "code",
   "execution_count": 3,
   "metadata": {},
   "outputs": [
    {
     "name": "stdout",
     "output_type": "stream",
     "text": [
      "x_train shape: (60000, 28, 28, 1)\n",
      "Number of images in x_train 60000\n",
      "Number of images in x_test 10000\n"
     ]
    }
   ],
   "source": [
    "# Reshaping the array to 4-dims so that it can work with the Keras API\n",
    "x_train = x_train.reshape(x_train.shape[0], 28, 28, 1)\n",
    "x_test = x_test.reshape(x_test.shape[0], 28, 28, 1)\n",
    "input_shape = (28, 28, 1)\n",
    "\n",
    "print('x_train shape:', x_train.shape)\n",
    "print('Number of images in x_train', x_train.shape[0])\n",
    "print('Number of images in x_test', x_test.shape[0])"
   ]
  },
  {
   "cell_type": "code",
   "execution_count": 4,
   "metadata": {},
   "outputs": [],
   "source": [
    "# Creating a Sequential Model and adding the layers\n",
    "model = tf.keras.models.Sequential([\n",
    "tf.keras.layers.Conv2D(28, kernel_size=(3,3), input_shape=input_shape),\n",
    "tf.keras.layers.MaxPooling2D(pool_size=(2, 2)),\n",
    "tf.keras.layers.Flatten(), # Flattening the 2D arrays for fully connected layers\n",
    "tf.keras.layers.Dense(128, activation=tf.nn.relu),\n",
    "tf.keras.layers.Dropout(0.2),\n",
    "tf.keras.layers.Dense(10,activation=tf.nn.softmax)\n",
    "])"
   ]
  },
  {
   "cell_type": "code",
   "execution_count": 5,
   "metadata": {},
   "outputs": [
    {
     "name": "stdout",
     "output_type": "stream",
     "text": [
      "Model: \"sequential\"\n",
      "_________________________________________________________________\n",
      "Layer (type)                 Output Shape              Param #   \n",
      "=================================================================\n",
      "conv2d (Conv2D)              (None, 26, 26, 28)        280       \n",
      "_________________________________________________________________\n",
      "max_pooling2d (MaxPooling2D) (None, 13, 13, 28)        0         \n",
      "_________________________________________________________________\n",
      "flatten (Flatten)            (None, 4732)              0         \n",
      "_________________________________________________________________\n",
      "dense (Dense)                (None, 128)               605824    \n",
      "_________________________________________________________________\n",
      "dropout (Dropout)            (None, 128)               0         \n",
      "_________________________________________________________________\n",
      "dense_1 (Dense)              (None, 10)                1290      \n",
      "=================================================================\n",
      "Total params: 607,394\n",
      "Trainable params: 607,394\n",
      "Non-trainable params: 0\n",
      "_________________________________________________________________\n"
     ]
    }
   ],
   "source": [
    "model.summary()"
   ]
  },
  {
   "cell_type": "code",
   "execution_count": 6,
   "metadata": {},
   "outputs": [
    {
     "name": "stdout",
     "output_type": "stream",
     "text": [
      "Train on 60000 samples, validate on 10000 samples\n",
      "Epoch 1/10\n",
      "60000/60000 [==============================] - 20s 327us/sample - loss: 0.2405 - accuracy: 0.9279 - val_loss: 0.1089 - val_accuracy: 0.9666\n",
      "Epoch 2/10\n",
      "60000/60000 [==============================] - 19s 312us/sample - loss: 0.1028 - accuracy: 0.9683 - val_loss: 0.0746 - val_accuracy: 0.9785\n",
      "Epoch 3/10\n",
      "60000/60000 [==============================] - 19s 309us/sample - loss: 0.0709 - accuracy: 0.9782 - val_loss: 0.0774 - val_accuracy: 0.9767\n",
      "Epoch 4/10\n",
      "60000/60000 [==============================] - 19s 316us/sample - loss: 0.0539 - accuracy: 0.9832 - val_loss: 0.0660 - val_accuracy: 0.9805\n",
      "Epoch 5/10\n",
      "60000/60000 [==============================] - 19s 309us/sample - loss: 0.0416 - accuracy: 0.9863 - val_loss: 0.0650 - val_accuracy: 0.9796\n",
      "Epoch 6/10\n",
      "60000/60000 [==============================] - 19s 309us/sample - loss: 0.0333 - accuracy: 0.9887 - val_loss: 0.0656 - val_accuracy: 0.9811\n",
      "Epoch 7/10\n",
      "60000/60000 [==============================] - 19s 313us/sample - loss: 0.0270 - accuracy: 0.9911 - val_loss: 0.0624 - val_accuracy: 0.9829\n",
      "Epoch 8/10\n",
      "60000/60000 [==============================] - 19s 319us/sample - loss: 0.0236 - accuracy: 0.9913 - val_loss: 0.0658 - val_accuracy: 0.9821\n",
      "Epoch 9/10\n",
      "60000/60000 [==============================] - 19s 319us/sample - loss: 0.0208 - accuracy: 0.9925 - val_loss: 0.0649 - val_accuracy: 0.9829\n",
      "Epoch 10/10\n",
      "60000/60000 [==============================] - 19s 311us/sample - loss: 0.0183 - accuracy: 0.9933 - val_loss: 0.0735 - val_accuracy: 0.9818\n"
     ]
    }
   ],
   "source": [
    "model.compile(optimizer='adam',\n",
    "              loss='sparse_categorical_crossentropy',\n",
    "              metrics=['accuracy'])\n",
    "\n",
    "history = model.fit(x_train, y_train, epochs=10, \n",
    "                    validation_data=(x_test, y_test))"
   ]
  },
  {
   "cell_type": "code",
   "execution_count": null,
   "metadata": {},
   "outputs": [],
   "source": []
  }
 ],
 "metadata": {
  "kernelspec": {
   "display_name": "Python 3",
   "language": "python",
   "name": "python3"
  },
  "language_info": {
   "codemirror_mode": {
    "name": "ipython",
    "version": 3
   },
   "file_extension": ".py",
   "mimetype": "text/x-python",
   "name": "python",
   "nbconvert_exporter": "python",
   "pygments_lexer": "ipython3",
   "version": "3.7.3"
  }
 },
 "nbformat": 4,
 "nbformat_minor": 4
}
