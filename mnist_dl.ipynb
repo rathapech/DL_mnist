{
 "cells": [
  {
   "cell_type": "code",
   "execution_count": 34,
   "metadata": {},
   "outputs": [],
   "source": [
    "import tensorflow as tf"
   ]
  },
  {
   "cell_type": "code",
   "execution_count": 35,
   "metadata": {},
   "outputs": [],
   "source": [
    "mnist = tf.keras.datasets.mnist\n",
    "\n",
    "(x_train, y_train),(x_test, y_test) = mnist.load_data()\n",
    "#x_train, x_test = x_train / 255.0, x_test / 255.0\n",
    "x_train = tf.keras.utils.normalize(x_train, axis=1)\n",
    "x_test = tf.keras.utils.normalize(x_test, axis=1)"
   ]
  },
  {
   "cell_type": "code",
   "execution_count": 36,
   "metadata": {},
   "outputs": [],
   "source": [
    "model = tf.keras.models.Sequential([\n",
    "    tf.keras.layers.Flatten(),\n",
    "    tf.keras.layers.Dense(128, activation=tf.nn.relu),\n",
    "    #tf.keras.layers.Dropout(0.2),\n",
    "    tf.keras.layers.Dense(128, activation=tf.nn.relu),\n",
    "    #tf.keras.layers.Dropout(0.2),\n",
    "    tf.keras.layers.Dense(10, activation=tf.nn.softmax)\n",
    "  ])"
   ]
  },
  {
   "cell_type": "code",
   "execution_count": 37,
   "metadata": {},
   "outputs": [],
   "source": [
    "model.compile(optimizer='adam',\n",
    "                loss='sparse_categorical_crossentropy',\n",
    "                metrics=['accuracy'])"
   ]
  },
  {
   "cell_type": "code",
   "execution_count": 38,
   "metadata": {},
   "outputs": [
    {
     "name": "stdout",
     "output_type": "stream",
     "text": [
      "Train on 60000 samples, validate on 10000 samples\n",
      "Epoch 1/10\n",
      "60000/60000 [==============================] - 3s 55us/sample - loss: 0.2592 - accuracy: 0.9251 - val_loss: 0.1464 - val_accuracy: 0.9542\n",
      "Epoch 2/10\n",
      "60000/60000 [==============================] - 3s 49us/sample - loss: 0.1050 - accuracy: 0.9677 - val_loss: 0.0966 - val_accuracy: 0.9692\n",
      "Epoch 3/10\n",
      "60000/60000 [==============================] - 3s 51us/sample - loss: 0.0733 - accuracy: 0.9770 - val_loss: 0.0878 - val_accuracy: 0.9723\n",
      "Epoch 4/10\n",
      "60000/60000 [==============================] - 3s 51us/sample - loss: 0.0535 - accuracy: 0.9825 - val_loss: 0.0891 - val_accuracy: 0.9722\n",
      "Epoch 5/10\n",
      "60000/60000 [==============================] - 3s 49us/sample - loss: 0.0420 - accuracy: 0.9864 - val_loss: 0.1040 - val_accuracy: 0.9717\n",
      "Epoch 6/10\n",
      "60000/60000 [==============================] - 3s 49us/sample - loss: 0.0307 - accuracy: 0.9897 - val_loss: 0.0934 - val_accuracy: 0.9743\n",
      "Epoch 7/10\n",
      "60000/60000 [==============================] - 3s 51us/sample - loss: 0.0267 - accuracy: 0.9906 - val_loss: 0.1047 - val_accuracy: 0.9717\n",
      "Epoch 8/10\n",
      "60000/60000 [==============================] - 3s 52us/sample - loss: 0.0220 - accuracy: 0.9925 - val_loss: 0.0973 - val_accuracy: 0.9753\n",
      "Epoch 9/10\n",
      "60000/60000 [==============================] - 3s 51us/sample - loss: 0.0189 - accuracy: 0.9934 - val_loss: 0.1081 - val_accuracy: 0.9752\n",
      "Epoch 10/10\n",
      "60000/60000 [==============================] - 3s 49us/sample - loss: 0.0152 - accuracy: 0.9947 - val_loss: 0.1255 - val_accuracy: 0.9732\n"
     ]
    },
    {
     "data": {
      "text/plain": [
       "<tensorflow.python.keras.callbacks.History at 0x6588fdb70>"
      ]
     },
     "execution_count": 38,
     "metadata": {},
     "output_type": "execute_result"
    }
   ],
   "source": [
    "model.fit(x=x_train, \n",
    "            y=y_train, \n",
    "            epochs=10, \n",
    "            validation_data=(x_test, y_test))"
   ]
  },
  {
   "cell_type": "code",
   "execution_count": null,
   "metadata": {},
   "outputs": [],
   "source": []
  }
 ],
 "metadata": {
  "kernelspec": {
   "display_name": "Python 3",
   "language": "python",
   "name": "python3"
  },
  "language_info": {
   "codemirror_mode": {
    "name": "ipython",
    "version": 3
   },
   "file_extension": ".py",
   "mimetype": "text/x-python",
   "name": "python",
   "nbconvert_exporter": "python",
   "pygments_lexer": "ipython3",
   "version": "3.7.3"
  }
 },
 "nbformat": 4,
 "nbformat_minor": 4
}
