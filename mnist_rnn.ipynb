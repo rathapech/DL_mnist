{
 "cells": [
  {
   "cell_type": "markdown",
   "metadata": {},
   "source": [
    "# MNIST with RNN "
   ]
  },
  {
   "cell_type": "code",
   "execution_count": 1,
   "metadata": {},
   "outputs": [],
   "source": [
    "import tensorflow as tf\n",
    "from tensorflow.keras import Sequential\n",
    "from tensorflow.keras.layers import Dense, Dropout, LSTM"
   ]
  },
  {
   "cell_type": "code",
   "execution_count": 2,
   "metadata": {},
   "outputs": [],
   "source": [
    "mnist = tf.keras.datasets.mnist"
   ]
  },
  {
   "cell_type": "code",
   "execution_count": 3,
   "metadata": {},
   "outputs": [
    {
     "name": "stdout",
     "output_type": "stream",
     "text": [
      "(60000, 28, 28)\n"
     ]
    }
   ],
   "source": [
    "(X_train, y_train), (X_test, y_test) = mnist.load_data()\n",
    "X_train = X_train/255.0\n",
    "X_test = X_test/255.0\n",
    "print(X_train.shape)"
   ]
  },
  {
   "cell_type": "code",
   "execution_count": 4,
   "metadata": {},
   "outputs": [
    {
     "name": "stdout",
     "output_type": "stream",
     "text": [
      "Train on 60000 samples, validate on 10000 samples\n",
      "Epoch 1/10\n",
      "WARNING:tensorflow:Entity <function Function._initialize_uninitialized_variables.<locals>.initialize_variables at 0x655a66048> could not be transformed and will be executed as-is. Please report this to the AutoGraph team. When filing the bug, set the verbosity to 10 (on Linux, `export AUTOGRAPH_VERBOSITY=10`) and attach the full output. Cause: module 'gast' has no attribute 'Num'\n",
      "WARNING: Entity <function Function._initialize_uninitialized_variables.<locals>.initialize_variables at 0x655a66048> could not be transformed and will be executed as-is. Please report this to the AutoGraph team. When filing the bug, set the verbosity to 10 (on Linux, `export AUTOGRAPH_VERBOSITY=10`) and attach the full output. Cause: module 'gast' has no attribute 'Num'\n",
      "60000/60000 [==============================] - 90s 2ms/sample - loss: 0.6506 - accuracy: 0.7843 - val_loss: 0.1585 - val_accuracy: 0.9521\n",
      "Epoch 2/10\n",
      "60000/60000 [==============================] - 89s 1ms/sample - loss: 0.1603 - accuracy: 0.9560 - val_loss: 0.0908 - val_accuracy: 0.9734\n",
      "Epoch 3/10\n",
      "60000/60000 [==============================] - 89s 1ms/sample - loss: 0.1096 - accuracy: 0.9711 - val_loss: 0.0730 - val_accuracy: 0.9809\n",
      "Epoch 4/10\n",
      "60000/60000 [==============================] - 88s 1ms/sample - loss: 0.1061 - accuracy: 0.9719 - val_loss: 0.0631 - val_accuracy: 0.9816\n",
      "Epoch 5/10\n",
      "60000/60000 [==============================] - 83s 1ms/sample - loss: 0.0741 - accuracy: 0.9803 - val_loss: 0.0568 - val_accuracy: 0.9849\n",
      "Epoch 6/10\n",
      "60000/60000 [==============================] - 88s 1ms/sample - loss: 0.0614 - accuracy: 0.9838 - val_loss: 0.0395 - val_accuracy: 0.9887\n",
      "Epoch 7/10\n",
      "60000/60000 [==============================] - 86s 1ms/sample - loss: 0.0550 - accuracy: 0.9853 - val_loss: 0.0582 - val_accuracy: 0.9849\n",
      "Epoch 8/10\n",
      "60000/60000 [==============================] - 83s 1ms/sample - loss: 0.0509 - accuracy: 0.9865 - val_loss: 0.0534 - val_accuracy: 0.9847\n",
      "Epoch 9/10\n",
      "60000/60000 [==============================] - 85s 1ms/sample - loss: 0.0428 - accuracy: 0.9888 - val_loss: 0.0443 - val_accuracy: 0.9867\n",
      "Epoch 10/10\n",
      "60000/60000 [==============================] - 85s 1ms/sample - loss: 0.0380 - accuracy: 0.9901 - val_loss: 0.0454 - val_accuracy: 0.9873\n"
     ]
    },
    {
     "data": {
      "text/plain": [
       "<tensorflow.python.keras.callbacks.History at 0x655a37438>"
      ]
     },
     "execution_count": 4,
     "metadata": {},
     "output_type": "execute_result"
    }
   ],
   "source": [
    "model = Sequential()\n",
    "model.add(LSTM(128, input_shape=(X_train.shape[1:]), activation='relu', return_sequences = True))\n",
    "model.add(Dropout(0.2))\n",
    "model.add(LSTM(128, activation='relu'))\n",
    "model.add(Dropout(0.2))\n",
    "model.add(Dense(32, activation='relu'))\n",
    "model.add(Dropout(0.2))\n",
    "model.add(Dense(10, activation='softmax'))\n",
    "          \n",
    "opt = tf.keras.optimizers.Adam(lr=1e-3, decay = 1e-5)\n",
    "model.compile(loss='sparse_categorical_crossentropy', \n",
    "              optimizer = opt, \n",
    "              metrics=['accuracy'])\n",
    "model.fit(X_train, y_train, epochs = 10, validation_data = (X_test, y_test))"
   ]
  },
  {
   "cell_type": "code",
   "execution_count": 6,
   "metadata": {},
   "outputs": [
    {
     "name": "stdout",
     "output_type": "stream",
     "text": [
      "Model: \"sequential\"\n",
      "_________________________________________________________________\n",
      "Layer (type)                 Output Shape              Param #   \n",
      "=================================================================\n",
      "lstm (LSTM)                  (None, 28, 128)           80384     \n",
      "_________________________________________________________________\n",
      "dropout (Dropout)            (None, 28, 128)           0         \n",
      "_________________________________________________________________\n",
      "lstm_1 (LSTM)                (None, 128)               131584    \n",
      "_________________________________________________________________\n",
      "dropout_1 (Dropout)          (None, 128)               0         \n",
      "_________________________________________________________________\n",
      "dense (Dense)                (None, 32)                4128      \n",
      "_________________________________________________________________\n",
      "dropout_2 (Dropout)          (None, 32)                0         \n",
      "_________________________________________________________________\n",
      "dense_1 (Dense)              (None, 10)                330       \n",
      "=================================================================\n",
      "Total params: 216,426\n",
      "Trainable params: 216,426\n",
      "Non-trainable params: 0\n",
      "_________________________________________________________________\n"
     ]
    }
   ],
   "source": [
    "model.summary()"
   ]
  },
  {
   "cell_type": "code",
   "execution_count": 5,
   "metadata": {},
   "outputs": [
    {
     "name": "stdout",
     "output_type": "stream",
     "text": [
      "Train on 60000 samples, validate on 10000 samples\n",
      "Epoch 1/10\n",
      "WARNING:tensorflow:Entity <function Function._initialize_uninitialized_variables.<locals>.initialize_variables at 0x638c67950> could not be transformed and will be executed as-is. Please report this to the AutoGraph team. When filing the bug, set the verbosity to 10 (on Linux, `export AUTOGRAPH_VERBOSITY=10`) and attach the full output. Cause: module 'gast' has no attribute 'Num'\n",
      "WARNING: Entity <function Function._initialize_uninitialized_variables.<locals>.initialize_variables at 0x638c67950> could not be transformed and will be executed as-is. Please report this to the AutoGraph team. When filing the bug, set the verbosity to 10 (on Linux, `export AUTOGRAPH_VERBOSITY=10`) and attach the full output. Cause: module 'gast' has no attribute 'Num'\n",
      "60000/60000 [==============================] - 92s 2ms/sample - loss: 0.3356 - accuracy: 0.8931 - val_loss: 0.1201 - val_accuracy: 0.9628\n",
      "Epoch 2/10\n",
      "60000/60000 [==============================] - 81s 1ms/sample - loss: 0.1034 - accuracy: 0.9708 - val_loss: 0.0686 - val_accuracy: 0.9800\n",
      "Epoch 3/10\n",
      "60000/60000 [==============================] - 84s 1ms/sample - loss: 0.0717 - accuracy: 0.9794 - val_loss: 0.0751 - val_accuracy: 0.9784\n",
      "Epoch 4/10\n",
      "60000/60000 [==============================] - 85s 1ms/sample - loss: 0.0597 - accuracy: 0.9832 - val_loss: 0.0584 - val_accuracy: 0.9833\n",
      "Epoch 5/10\n",
      "60000/60000 [==============================] - 82s 1ms/sample - loss: 0.0446 - accuracy: 0.9875 - val_loss: 0.0496 - val_accuracy: 0.9872\n",
      "Epoch 6/10\n",
      "60000/60000 [==============================] - 82s 1ms/sample - loss: 0.0404 - accuracy: 0.9882 - val_loss: 0.0501 - val_accuracy: 0.9861\n",
      "Epoch 7/10\n",
      "60000/60000 [==============================] - 85s 1ms/sample - loss: 0.0365 - accuracy: 0.9898 - val_loss: 0.0375 - val_accuracy: 0.9894\n",
      "Epoch 8/10\n",
      "60000/60000 [==============================] - 89s 1ms/sample - loss: 0.0306 - accuracy: 0.9910 - val_loss: 0.0468 - val_accuracy: 0.9874\n",
      "Epoch 9/10\n",
      "60000/60000 [==============================] - 85s 1ms/sample - loss: 0.0266 - accuracy: 0.9920 - val_loss: 0.0490 - val_accuracy: 0.9893\n",
      "Epoch 10/10\n",
      "60000/60000 [==============================] - 84s 1ms/sample - loss: 0.0238 - accuracy: 0.9931 - val_loss: 0.0477 - val_accuracy: 0.9894\n"
     ]
    },
    {
     "data": {
      "text/plain": [
       "<tensorflow.python.keras.callbacks.History at 0x638c6fda0>"
      ]
     },
     "execution_count": 5,
     "metadata": {},
     "output_type": "execute_result"
    }
   ],
   "source": [
    "model_cu = Sequential()\n",
    "model_cu.add(LSTM(128, input_shape=(X_train.shape[1:]), return_sequences = True))\n",
    "model_cu.add(Dropout(0.2))\n",
    "model_cu.add(LSTM(128))\n",
    "model_cu.add(Dropout(0.2))\n",
    "model_cu.add(Dense(32))\n",
    "model_cu.add(Dropout(0.2))\n",
    "model_cu.add(Dense(10, activation='softmax'))\n",
    "          \n",
    "opt = tf.keras.optimizers.Adam(lr=1e-3, decay = 1e-5)\n",
    "model_cu.compile(loss='sparse_categorical_crossentropy', \n",
    "              optimizer = opt, \n",
    "              metrics=['accuracy'])\n",
    "model_cu.fit(X_train, y_train, epochs = 10, validation_data = (X_test, y_test))"
   ]
  },
  {
   "cell_type": "code",
   "execution_count": 7,
   "metadata": {},
   "outputs": [
    {
     "name": "stdout",
     "output_type": "stream",
     "text": [
      "Model: \"sequential_1\"\n",
      "_________________________________________________________________\n",
      "Layer (type)                 Output Shape              Param #   \n",
      "=================================================================\n",
      "lstm_2 (LSTM)                (None, 28, 128)           80384     \n",
      "_________________________________________________________________\n",
      "dropout_3 (Dropout)          (None, 28, 128)           0         \n",
      "_________________________________________________________________\n",
      "lstm_3 (LSTM)                (None, 128)               131584    \n",
      "_________________________________________________________________\n",
      "dropout_4 (Dropout)          (None, 128)               0         \n",
      "_________________________________________________________________\n",
      "dense_2 (Dense)              (None, 32)                4128      \n",
      "_________________________________________________________________\n",
      "dropout_5 (Dropout)          (None, 32)                0         \n",
      "_________________________________________________________________\n",
      "dense_3 (Dense)              (None, 10)                330       \n",
      "=================================================================\n",
      "Total params: 216,426\n",
      "Trainable params: 216,426\n",
      "Non-trainable params: 0\n",
      "_________________________________________________________________\n"
     ]
    }
   ],
   "source": [
    "model_cu.summary()"
   ]
  },
  {
   "cell_type": "code",
   "execution_count": null,
   "metadata": {},
   "outputs": [],
   "source": []
  }
 ],
 "metadata": {
  "kernelspec": {
   "display_name": "Python 3",
   "language": "python",
   "name": "python3"
  },
  "language_info": {
   "codemirror_mode": {
    "name": "ipython",
    "version": 3
   },
   "file_extension": ".py",
   "mimetype": "text/x-python",
   "name": "python",
   "nbconvert_exporter": "python",
   "pygments_lexer": "ipython3",
   "version": "3.7.3"
  }
 },
 "nbformat": 4,
 "nbformat_minor": 4
}
