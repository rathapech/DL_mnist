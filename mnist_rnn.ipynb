{
 "cells": [
  {
   "cell_type": "markdown",
   "metadata": {},
   "source": [
    "# MNIST with RNN "
   ]
  },
  {
   "cell_type": "code",
   "execution_count": 10,
   "metadata": {},
   "outputs": [],
   "source": [
    "import tensorflow as tf\n",
    "from tensorflow.keras import Sequential\n",
    "from tensorflow.keras.layers import Dense, Dropout, LSTM\n",
    "import numpy as np\n",
    "import pandas as pd\n",
    "import matplotlib.pyplot as plt"
   ]
  },
  {
   "cell_type": "code",
   "execution_count": 2,
   "metadata": {},
   "outputs": [],
   "source": [
    "mnist = tf.keras.datasets.mnist"
   ]
  },
  {
   "cell_type": "code",
   "execution_count": 3,
   "metadata": {},
   "outputs": [
    {
     "name": "stdout",
     "output_type": "stream",
     "text": [
      "(60000, 28, 28)\n"
     ]
    }
   ],
   "source": [
    "(X_train, y_train), (X_test, y_test) = mnist.load_data()\n",
    "X_train = X_train/255.0\n",
    "X_test = X_test/255.0\n",
    "print(X_train.shape)"
   ]
  },
  {
   "cell_type": "code",
   "execution_count": 4,
   "metadata": {},
   "outputs": [],
   "source": [
    "model = Sequential()\n",
    "model.add(LSTM(128, input_shape=(X_train.shape[1:]), activation='relu', return_sequences = True))\n",
    "model.add(Dropout(0.2))\n",
    "model.add(LSTM(128, activation='relu'))\n",
    "model.add(Dropout(0.2))\n",
    "model.add(Dense(32, activation='relu'))\n",
    "model.add(Dropout(0.2))\n",
    "model.add(Dense(10, activation='softmax'))"
   ]
  },
  {
   "cell_type": "code",
   "execution_count": 5,
   "metadata": {},
   "outputs": [
    {
     "name": "stdout",
     "output_type": "stream",
     "text": [
      "Model: \"sequential\"\n",
      "_________________________________________________________________\n",
      "Layer (type)                 Output Shape              Param #   \n",
      "=================================================================\n",
      "lstm (LSTM)                  (None, 28, 128)           80384     \n",
      "_________________________________________________________________\n",
      "dropout (Dropout)            (None, 28, 128)           0         \n",
      "_________________________________________________________________\n",
      "lstm_1 (LSTM)                (None, 128)               131584    \n",
      "_________________________________________________________________\n",
      "dropout_1 (Dropout)          (None, 128)               0         \n",
      "_________________________________________________________________\n",
      "dense (Dense)                (None, 32)                4128      \n",
      "_________________________________________________________________\n",
      "dropout_2 (Dropout)          (None, 32)                0         \n",
      "_________________________________________________________________\n",
      "dense_1 (Dense)              (None, 10)                330       \n",
      "=================================================================\n",
      "Total params: 216,426\n",
      "Trainable params: 216,426\n",
      "Non-trainable params: 0\n",
      "_________________________________________________________________\n"
     ]
    }
   ],
   "source": [
    "model.summary()"
   ]
  },
  {
   "cell_type": "code",
   "execution_count": 6,
   "metadata": {},
   "outputs": [
    {
     "name": "stdout",
     "output_type": "stream",
     "text": [
      "Train on 60000 samples, validate on 10000 samples\n",
      "Epoch 1/10\n",
      "WARNING:tensorflow:Entity <function Function._initialize_uninitialized_variables.<locals>.initialize_variables at 0x656acd620> could not be transformed and will be executed as-is. Please report this to the AutoGraph team. When filing the bug, set the verbosity to 10 (on Linux, `export AUTOGRAPH_VERBOSITY=10`) and attach the full output. Cause: module 'gast' has no attribute 'Num'\n",
      "WARNING: Entity <function Function._initialize_uninitialized_variables.<locals>.initialize_variables at 0x656acd620> could not be transformed and will be executed as-is. Please report this to the AutoGraph team. When filing the bug, set the verbosity to 10 (on Linux, `export AUTOGRAPH_VERBOSITY=10`) and attach the full output. Cause: module 'gast' has no attribute 'Num'\n",
      "60000/60000 [==============================] - 101s 2ms/sample - loss: 0.6749 - accuracy: 0.7731 - val_loss: 0.1549 - val_accuracy: 0.9555\n",
      "Epoch 2/10\n",
      "60000/60000 [==============================] - 96s 2ms/sample - loss: 0.1725 - accuracy: 0.9536 - val_loss: 0.1070 - val_accuracy: 0.9694\n",
      "Epoch 3/10\n",
      "60000/60000 [==============================] - 96s 2ms/sample - loss: 0.1151 - accuracy: 0.9697 - val_loss: 0.1007 - val_accuracy: 0.9707\n",
      "Epoch 4/10\n",
      "60000/60000 [==============================] - 96s 2ms/sample - loss: 0.0889 - accuracy: 0.9770 - val_loss: 0.0809 - val_accuracy: 0.9758\n",
      "Epoch 5/10\n",
      "60000/60000 [==============================] - 94s 2ms/sample - loss: 0.0715 - accuracy: 0.9810 - val_loss: 0.0553 - val_accuracy: 0.9841\n",
      "Epoch 6/10\n",
      "60000/60000 [==============================] - 94s 2ms/sample - loss: 0.0595 - accuracy: 0.9846 - val_loss: 0.0638 - val_accuracy: 0.9824\n",
      "Epoch 7/10\n",
      "60000/60000 [==============================] - 97s 2ms/sample - loss: 0.0524 - accuracy: 0.9859 - val_loss: 0.0435 - val_accuracy: 0.9870\n",
      "Epoch 8/10\n",
      "60000/60000 [==============================] - 97s 2ms/sample - loss: 0.0451 - accuracy: 0.9873 - val_loss: 0.0425 - val_accuracy: 0.9885\n",
      "Epoch 9/10\n",
      "60000/60000 [==============================] - 96s 2ms/sample - loss: 0.0407 - accuracy: 0.9888 - val_loss: 0.0639 - val_accuracy: 0.9883\n",
      "Epoch 10/10\n",
      "60000/60000 [==============================] - 97s 2ms/sample - loss: 0.0365 - accuracy: 0.9900 - val_loss: 0.0327 - val_accuracy: 0.9919\n"
     ]
    }
   ],
   "source": [
    "opt = tf.keras.optimizers.Adam(lr=1e-3, decay = 1e-5)\n",
    "model.compile(loss='sparse_categorical_crossentropy', \n",
    "              optimizer = opt, \n",
    "              metrics=['accuracy'])\n",
    "history = model.fit(X_train, y_train, epochs = 10, validation_data = (X_test, y_test))"
   ]
  },
  {
   "cell_type": "code",
   "execution_count": 11,
   "metadata": {},
   "outputs": [
    {
     "data": {
      "image/png": "[encoded data removed]",
      "text/plain": [
       "<Figure size 576x360 with 1 Axes>"
      ]
     },
     "metadata": {
      "needs_background": "light"
     },
     "output_type": "display_data"
    }
   ],
   "source": [
    "pd.DataFrame(history.history).plot(figsize=(8,5))\n",
    "plt.grid(True)\n",
    "plt.gca().set_ylim(0,1)\n",
    "plt.show()"
   ]
  },
  {
   "cell_type": "code",
   "execution_count": 12,
   "metadata": {},
   "outputs": [],
   "source": [
    "model_cu = Sequential()\n",
    "model_cu.add(LSTM(128, input_shape=(X_train.shape[1:]), return_sequences = True))\n",
    "model_cu.add(Dropout(0.2))\n",
    "model_cu.add(LSTM(128))\n",
    "model_cu.add(Dropout(0.2))\n",
    "model_cu.add(Dense(32))\n",
    "model_cu.add(Dropout(0.2))\n",
    "model_cu.add(Dense(10, activation='softmax'))"
   ]
  },
  {
   "cell_type": "code",
   "execution_count": 13,
   "metadata": {},
   "outputs": [
    {
     "name": "stdout",
     "output_type": "stream",
     "text": [
      "Model: \"sequential_1\"\n",
      "_________________________________________________________________\n",
      "Layer (type)                 Output Shape              Param #   \n",
      "=================================================================\n",
      "lstm_2 (LSTM)                (None, 28, 128)           80384     \n",
      "_________________________________________________________________\n",
      "dropout_3 (Dropout)          (None, 28, 128)           0         \n",
      "_________________________________________________________________\n",
      "lstm_3 (LSTM)                (None, 128)               131584    \n",
      "_________________________________________________________________\n",
      "dropout_4 (Dropout)          (None, 128)               0         \n",
      "_________________________________________________________________\n",
      "dense_2 (Dense)              (None, 32)                4128      \n",
      "_________________________________________________________________\n",
      "dropout_5 (Dropout)          (None, 32)                0         \n",
      "_________________________________________________________________\n",
      "dense_3 (Dense)              (None, 10)                330       \n",
      "=================================================================\n",
      "Total params: 216,426\n",
      "Trainable params: 216,426\n",
      "Non-trainable params: 0\n",
      "_________________________________________________________________\n"
     ]
    }
   ],
   "source": [
    "model_cu.summary()"
   ]
  },
  {
   "cell_type": "code",
   "execution_count": 14,
   "metadata": {},
   "outputs": [
    {
     "name": "stdout",
     "output_type": "stream",
     "text": [
      "Train on 60000 samples, validate on 10000 samples\n",
      "Epoch 1/10\n",
      "WARNING:tensorflow:Entity <function Function._initialize_uninitialized_variables.<locals>.initialize_variables at 0x6569b8840> could not be transformed and will be executed as-is. Please report this to the AutoGraph team. When filing the bug, set the verbosity to 10 (on Linux, `export AUTOGRAPH_VERBOSITY=10`) and attach the full output. Cause: module 'gast' has no attribute 'Num'\n",
      "WARNING: Entity <function Function._initialize_uninitialized_variables.<locals>.initialize_variables at 0x6569b8840> could not be transformed and will be executed as-is. Please report this to the AutoGraph team. When filing the bug, set the verbosity to 10 (on Linux, `export AUTOGRAPH_VERBOSITY=10`) and attach the full output. Cause: module 'gast' has no attribute 'Num'\n",
      "60000/60000 [==============================] - 106s 2ms/sample - loss: 0.3314 - accuracy: 0.8942 - val_loss: 0.1087 - val_accuracy: 0.9673\n",
      "Epoch 2/10\n",
      "60000/60000 [==============================] - 97s 2ms/sample - loss: 0.1013 - accuracy: 0.9715 - val_loss: 0.0717 - val_accuracy: 0.9785\n",
      "Epoch 3/10\n",
      "60000/60000 [==============================] - 97s 2ms/sample - loss: 0.0758 - accuracy: 0.9785 - val_loss: 0.0528 - val_accuracy: 0.9846\n",
      "Epoch 4/10\n",
      "60000/60000 [==============================] - 92s 2ms/sample - loss: 0.0576 - accuracy: 0.9841 - val_loss: 0.0673 - val_accuracy: 0.9782\n",
      "Epoch 5/10\n",
      "60000/60000 [==============================] - 92s 2ms/sample - loss: 0.0463 - accuracy: 0.9866 - val_loss: 0.0551 - val_accuracy: 0.9835\n",
      "Epoch 6/10\n",
      "60000/60000 [==============================] - 93s 2ms/sample - loss: 0.0392 - accuracy: 0.9887 - val_loss: 0.0457 - val_accuracy: 0.9872\n",
      "Epoch 7/10\n",
      "60000/60000 [==============================] - 92s 2ms/sample - loss: 0.0342 - accuracy: 0.9902 - val_loss: 0.0369 - val_accuracy: 0.9894\n",
      "Epoch 8/10\n",
      "60000/60000 [==============================] - 96s 2ms/sample - loss: 0.0303 - accuracy: 0.9913 - val_loss: 0.0347 - val_accuracy: 0.9904\n",
      "Epoch 9/10\n",
      "60000/60000 [==============================] - 91s 2ms/sample - loss: 0.0262 - accuracy: 0.9924 - val_loss: 0.0407 - val_accuracy: 0.9888\n",
      "Epoch 10/10\n",
      "60000/60000 [==============================] - 94s 2ms/sample - loss: 0.0240 - accuracy: 0.9931 - val_loss: 0.0336 - val_accuracy: 0.9913\n"
     ]
    }
   ],
   "source": [
    "opt = tf.keras.optimizers.Adam(lr=1e-3, decay = 1e-5)\n",
    "model_cu.compile(loss='sparse_categorical_crossentropy', \n",
    "              optimizer = opt, \n",
    "              metrics=['accuracy'])\n",
    "history = model_cu.fit(X_train, y_train, epochs = 10, validation_data = (X_test, y_test))"
   ]
  },
  {
   "cell_type": "code",
   "execution_count": 15,
   "metadata": {},
   "outputs": [
    {
     "data": {
      "image/png": "[encoded data removed]",
      "text/plain": [
       "<Figure size 576x360 with 1 Axes>"
      ]
     },
     "metadata": {
      "needs_background": "light"
     },
     "output_type": "display_data"
    }
   ],
   "source": [
    "pd.DataFrame(history.history).plot(figsize=(8,5))\n",
    "plt.grid(True)\n",
    "plt.gca().set_ylim(0,1)\n",
    "plt.show()"
   ]
  },
  {
   "cell_type": "code",
   "execution_count": null,
   "metadata": {},
   "outputs": [],
   "source": []
  }
 ],
 "metadata": {
  "kernelspec": {
   "display_name": "Python 3",
   "language": "python",
   "name": "python3"
  },
  "language_info": {
   "codemirror_mode": {
    "name": "ipython",
    "version": 3
   },
   "file_extension": ".py",
   "mimetype": "text/x-python",
   "name": "python",
   "nbconvert_exporter": "python",
   "pygments_lexer": "ipython3",
   "version": "3.7.3"
  }
 },
 "nbformat": 4,
 "nbformat_minor": 4
}
